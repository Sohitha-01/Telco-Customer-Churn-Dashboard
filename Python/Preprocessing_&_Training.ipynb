{
  "cells": [
    {
      "cell_type": "markdown",
      "id": "9d345207",
      "metadata": {
        "id": "9d345207"
      },
      "source": [
        "# AI‑Powered Customer Churn Prediction"
      ]
    },
    {
      "cell_type": "code",
      "execution_count": 3,
      "id": "d2e7bfdb",
      "metadata": {
        "id": "d2e7bfdb"
      },
      "outputs": [],
      "source": [
        "# Import Libraries\n",
        "import pandas as pd\n",
        "import numpy as np\n",
        "import matplotlib.pyplot as plt\n",
        "\n",
        "from pathlib import Path"
      ]
    },
    {
      "cell_type": "code",
      "execution_count": 4,
      "id": "8897764b",
      "metadata": {
        "colab": {
          "base_uri": "https://localhost:8080/",
          "height": 313
        },
        "id": "8897764b",
        "outputId": "47c9afab-3291-4fa2-bbce-a08895d1bd16"
      },
      "outputs": [
        {
          "output_type": "stream",
          "name": "stdout",
          "text": [
            "(7043, 20)\n"
          ]
        },
        {
          "output_type": "execute_result",
          "data": {
            "text/plain": [
              "   gender  SeniorCitizen Partner Dependents  tenure PhoneService  \\\n",
              "0  Female              0     Yes         No       1           No   \n",
              "1    Male              0      No         No      34          Yes   \n",
              "2    Male              0      No         No       2          Yes   \n",
              "3    Male              0      No         No      45           No   \n",
              "4  Female              0      No         No       2          Yes   \n",
              "\n",
              "      MultipleLines InternetService OnlineSecurity OnlineBackup  \\\n",
              "0  No phone service             DSL             No          Yes   \n",
              "1                No             DSL            Yes           No   \n",
              "2                No             DSL            Yes          Yes   \n",
              "3  No phone service             DSL            Yes           No   \n",
              "4                No     Fiber optic             No           No   \n",
              "\n",
              "  DeviceProtection TechSupport StreamingTV StreamingMovies        Contract  \\\n",
              "0               No          No          No              No  Month-to-month   \n",
              "1              Yes          No          No              No        One year   \n",
              "2               No          No          No              No  Month-to-month   \n",
              "3              Yes         Yes          No              No        One year   \n",
              "4               No          No          No              No  Month-to-month   \n",
              "\n",
              "  PaperlessBilling              PaymentMethod  MonthlyCharges  TotalCharges  \\\n",
              "0              Yes           Electronic check           29.85         29.85   \n",
              "1               No               Mailed check           56.95       1889.50   \n",
              "2              Yes               Mailed check           53.85        108.15   \n",
              "3               No  Bank transfer (automatic)           42.30       1840.75   \n",
              "4              Yes           Electronic check           70.70        151.65   \n",
              "\n",
              "   Churn  \n",
              "0      0  \n",
              "1      0  \n",
              "2      1  \n",
              "3      0  \n",
              "4      1  "
            ],
            "text/html": [
              "\n",
              "  <div id=\"df-0089c002-b31e-4536-afd1-4a5a6054abc6\" class=\"colab-df-container\">\n",
              "    <div>\n",
              "<style scoped>\n",
              "    .dataframe tbody tr th:only-of-type {\n",
              "        vertical-align: middle;\n",
              "    }\n",
              "\n",
              "    .dataframe tbody tr th {\n",
              "        vertical-align: top;\n",
              "    }\n",
              "\n",
              "    .dataframe thead th {\n",
              "        text-align: right;\n",
              "    }\n",
              "</style>\n",
              "<table border=\"1\" class=\"dataframe\">\n",
              "  <thead>\n",
              "    <tr style=\"text-align: right;\">\n",
              "      <th></th>\n",
              "      <th>gender</th>\n",
              "      <th>SeniorCitizen</th>\n",
              "      <th>Partner</th>\n",
              "      <th>Dependents</th>\n",
              "      <th>tenure</th>\n",
              "      <th>PhoneService</th>\n",
              "      <th>MultipleLines</th>\n",
              "      <th>InternetService</th>\n",
              "      <th>OnlineSecurity</th>\n",
              "      <th>OnlineBackup</th>\n",
              "      <th>DeviceProtection</th>\n",
              "      <th>TechSupport</th>\n",
              "      <th>StreamingTV</th>\n",
              "      <th>StreamingMovies</th>\n",
              "      <th>Contract</th>\n",
              "      <th>PaperlessBilling</th>\n",
              "      <th>PaymentMethod</th>\n",
              "      <th>MonthlyCharges</th>\n",
              "      <th>TotalCharges</th>\n",
              "      <th>Churn</th>\n",
              "    </tr>\n",
              "  </thead>\n",
              "  <tbody>\n",
              "    <tr>\n",
              "      <th>0</th>\n",
              "      <td>Female</td>\n",
              "      <td>0</td>\n",
              "      <td>Yes</td>\n",
              "      <td>No</td>\n",
              "      <td>1</td>\n",
              "      <td>No</td>\n",
              "      <td>No phone service</td>\n",
              "      <td>DSL</td>\n",
              "      <td>No</td>\n",
              "      <td>Yes</td>\n",
              "      <td>No</td>\n",
              "      <td>No</td>\n",
              "      <td>No</td>\n",
              "      <td>No</td>\n",
              "      <td>Month-to-month</td>\n",
              "      <td>Yes</td>\n",
              "      <td>Electronic check</td>\n",
              "      <td>29.85</td>\n",
              "      <td>29.85</td>\n",
              "      <td>0</td>\n",
              "    </tr>\n",
              "    <tr>\n",
              "      <th>1</th>\n",
              "      <td>Male</td>\n",
              "      <td>0</td>\n",
              "      <td>No</td>\n",
              "      <td>No</td>\n",
              "      <td>34</td>\n",
              "      <td>Yes</td>\n",
              "      <td>No</td>\n",
              "      <td>DSL</td>\n",
              "      <td>Yes</td>\n",
              "      <td>No</td>\n",
              "      <td>Yes</td>\n",
              "      <td>No</td>\n",
              "      <td>No</td>\n",
              "      <td>No</td>\n",
              "      <td>One year</td>\n",
              "      <td>No</td>\n",
              "      <td>Mailed check</td>\n",
              "      <td>56.95</td>\n",
              "      <td>1889.50</td>\n",
              "      <td>0</td>\n",
              "    </tr>\n",
              "    <tr>\n",
              "      <th>2</th>\n",
              "      <td>Male</td>\n",
              "      <td>0</td>\n",
              "      <td>No</td>\n",
              "      <td>No</td>\n",
              "      <td>2</td>\n",
              "      <td>Yes</td>\n",
              "      <td>No</td>\n",
              "      <td>DSL</td>\n",
              "      <td>Yes</td>\n",
              "      <td>Yes</td>\n",
              "      <td>No</td>\n",
              "      <td>No</td>\n",
              "      <td>No</td>\n",
              "      <td>No</td>\n",
              "      <td>Month-to-month</td>\n",
              "      <td>Yes</td>\n",
              "      <td>Mailed check</td>\n",
              "      <td>53.85</td>\n",
              "      <td>108.15</td>\n",
              "      <td>1</td>\n",
              "    </tr>\n",
              "    <tr>\n",
              "      <th>3</th>\n",
              "      <td>Male</td>\n",
              "      <td>0</td>\n",
              "      <td>No</td>\n",
              "      <td>No</td>\n",
              "      <td>45</td>\n",
              "      <td>No</td>\n",
              "      <td>No phone service</td>\n",
              "      <td>DSL</td>\n",
              "      <td>Yes</td>\n",
              "      <td>No</td>\n",
              "      <td>Yes</td>\n",
              "      <td>Yes</td>\n",
              "      <td>No</td>\n",
              "      <td>No</td>\n",
              "      <td>One year</td>\n",
              "      <td>No</td>\n",
              "      <td>Bank transfer (automatic)</td>\n",
              "      <td>42.30</td>\n",
              "      <td>1840.75</td>\n",
              "      <td>0</td>\n",
              "    </tr>\n",
              "    <tr>\n",
              "      <th>4</th>\n",
              "      <td>Female</td>\n",
              "      <td>0</td>\n",
              "      <td>No</td>\n",
              "      <td>No</td>\n",
              "      <td>2</td>\n",
              "      <td>Yes</td>\n",
              "      <td>No</td>\n",
              "      <td>Fiber optic</td>\n",
              "      <td>No</td>\n",
              "      <td>No</td>\n",
              "      <td>No</td>\n",
              "      <td>No</td>\n",
              "      <td>No</td>\n",
              "      <td>No</td>\n",
              "      <td>Month-to-month</td>\n",
              "      <td>Yes</td>\n",
              "      <td>Electronic check</td>\n",
              "      <td>70.70</td>\n",
              "      <td>151.65</td>\n",
              "      <td>1</td>\n",
              "    </tr>\n",
              "  </tbody>\n",
              "</table>\n",
              "</div>\n",
              "    <div class=\"colab-df-buttons\">\n",
              "\n",
              "  <div class=\"colab-df-container\">\n",
              "    <button class=\"colab-df-convert\" onclick=\"convertToInteractive('df-0089c002-b31e-4536-afd1-4a5a6054abc6')\"\n",
              "            title=\"Convert this dataframe to an interactive table.\"\n",
              "            style=\"display:none;\">\n",
              "\n",
              "  <svg xmlns=\"http://www.w3.org/2000/svg\" height=\"24px\" viewBox=\"0 -960 960 960\">\n",
              "    <path d=\"M120-120v-720h720v720H120Zm60-500h600v-160H180v160Zm220 220h160v-160H400v160Zm0 220h160v-160H400v160ZM180-400h160v-160H180v160Zm440 0h160v-160H620v160ZM180-180h160v-160H180v160Zm440 0h160v-160H620v160Z\"/>\n",
              "  </svg>\n",
              "    </button>\n",
              "\n",
              "  <style>\n",
              "    .colab-df-container {\n",
              "      display:flex;\n",
              "      gap: 12px;\n",
              "    }\n",
              "\n",
              "    .colab-df-convert {\n",
              "      background-color: #E8F0FE;\n",
              "      border: none;\n",
              "      border-radius: 50%;\n",
              "      cursor: pointer;\n",
              "      display: none;\n",
              "      fill: #1967D2;\n",
              "      height: 32px;\n",
              "      padding: 0 0 0 0;\n",
              "      width: 32px;\n",
              "    }\n",
              "\n",
              "    .colab-df-convert:hover {\n",
              "      background-color: #E2EBFA;\n",
              "      box-shadow: 0px 1px 2px rgba(60, 64, 67, 0.3), 0px 1px 3px 1px rgba(60, 64, 67, 0.15);\n",
              "      fill: #174EA6;\n",
              "    }\n",
              "\n",
              "    .colab-df-buttons div {\n",
              "      margin-bottom: 4px;\n",
              "    }\n",
              "\n",
              "    [theme=dark] .colab-df-convert {\n",
              "      background-color: #3B4455;\n",
              "      fill: #D2E3FC;\n",
              "    }\n",
              "\n",
              "    [theme=dark] .colab-df-convert:hover {\n",
              "      background-color: #434B5C;\n",
              "      box-shadow: 0px 1px 3px 1px rgba(0, 0, 0, 0.15);\n",
              "      filter: drop-shadow(0px 1px 2px rgba(0, 0, 0, 0.3));\n",
              "      fill: #FFFFFF;\n",
              "    }\n",
              "  </style>\n",
              "\n",
              "    <script>\n",
              "      const buttonEl =\n",
              "        document.querySelector('#df-0089c002-b31e-4536-afd1-4a5a6054abc6 button.colab-df-convert');\n",
              "      buttonEl.style.display =\n",
              "        google.colab.kernel.accessAllowed ? 'block' : 'none';\n",
              "\n",
              "      async function convertToInteractive(key) {\n",
              "        const element = document.querySelector('#df-0089c002-b31e-4536-afd1-4a5a6054abc6');\n",
              "        const dataTable =\n",
              "          await google.colab.kernel.invokeFunction('convertToInteractive',\n",
              "                                                    [key], {});\n",
              "        if (!dataTable) return;\n",
              "\n",
              "        const docLinkHtml = 'Like what you see? Visit the ' +\n",
              "          '<a target=\"_blank\" href=https://colab.research.google.com/notebooks/data_table.ipynb>data table notebook</a>'\n",
              "          + ' to learn more about interactive tables.';\n",
              "        element.innerHTML = '';\n",
              "        dataTable['output_type'] = 'display_data';\n",
              "        await google.colab.output.renderOutput(dataTable, element);\n",
              "        const docLink = document.createElement('div');\n",
              "        docLink.innerHTML = docLinkHtml;\n",
              "        element.appendChild(docLink);\n",
              "      }\n",
              "    </script>\n",
              "  </div>\n",
              "\n",
              "\n",
              "    <div id=\"df-cc4a8671-8432-4f9a-86c2-f0b533b862c2\">\n",
              "      <button class=\"colab-df-quickchart\" onclick=\"quickchart('df-cc4a8671-8432-4f9a-86c2-f0b533b862c2')\"\n",
              "                title=\"Suggest charts\"\n",
              "                style=\"display:none;\">\n",
              "\n",
              "<svg xmlns=\"http://www.w3.org/2000/svg\" height=\"24px\"viewBox=\"0 0 24 24\"\n",
              "     width=\"24px\">\n",
              "    <g>\n",
              "        <path d=\"M19 3H5c-1.1 0-2 .9-2 2v14c0 1.1.9 2 2 2h14c1.1 0 2-.9 2-2V5c0-1.1-.9-2-2-2zM9 17H7v-7h2v7zm4 0h-2V7h2v10zm4 0h-2v-4h2v4z\"/>\n",
              "    </g>\n",
              "</svg>\n",
              "      </button>\n",
              "\n",
              "<style>\n",
              "  .colab-df-quickchart {\n",
              "      --bg-color: #E8F0FE;\n",
              "      --fill-color: #1967D2;\n",
              "      --hover-bg-color: #E2EBFA;\n",
              "      --hover-fill-color: #174EA6;\n",
              "      --disabled-fill-color: #AAA;\n",
              "      --disabled-bg-color: #DDD;\n",
              "  }\n",
              "\n",
              "  [theme=dark] .colab-df-quickchart {\n",
              "      --bg-color: #3B4455;\n",
              "      --fill-color: #D2E3FC;\n",
              "      --hover-bg-color: #434B5C;\n",
              "      --hover-fill-color: #FFFFFF;\n",
              "      --disabled-bg-color: #3B4455;\n",
              "      --disabled-fill-color: #666;\n",
              "  }\n",
              "\n",
              "  .colab-df-quickchart {\n",
              "    background-color: var(--bg-color);\n",
              "    border: none;\n",
              "    border-radius: 50%;\n",
              "    cursor: pointer;\n",
              "    display: none;\n",
              "    fill: var(--fill-color);\n",
              "    height: 32px;\n",
              "    padding: 0;\n",
              "    width: 32px;\n",
              "  }\n",
              "\n",
              "  .colab-df-quickchart:hover {\n",
              "    background-color: var(--hover-bg-color);\n",
              "    box-shadow: 0 1px 2px rgba(60, 64, 67, 0.3), 0 1px 3px 1px rgba(60, 64, 67, 0.15);\n",
              "    fill: var(--button-hover-fill-color);\n",
              "  }\n",
              "\n",
              "  .colab-df-quickchart-complete:disabled,\n",
              "  .colab-df-quickchart-complete:disabled:hover {\n",
              "    background-color: var(--disabled-bg-color);\n",
              "    fill: var(--disabled-fill-color);\n",
              "    box-shadow: none;\n",
              "  }\n",
              "\n",
              "  .colab-df-spinner {\n",
              "    border: 2px solid var(--fill-color);\n",
              "    border-color: transparent;\n",
              "    border-bottom-color: var(--fill-color);\n",
              "    animation:\n",
              "      spin 1s steps(1) infinite;\n",
              "  }\n",
              "\n",
              "  @keyframes spin {\n",
              "    0% {\n",
              "      border-color: transparent;\n",
              "      border-bottom-color: var(--fill-color);\n",
              "      border-left-color: var(--fill-color);\n",
              "    }\n",
              "    20% {\n",
              "      border-color: transparent;\n",
              "      border-left-color: var(--fill-color);\n",
              "      border-top-color: var(--fill-color);\n",
              "    }\n",
              "    30% {\n",
              "      border-color: transparent;\n",
              "      border-left-color: var(--fill-color);\n",
              "      border-top-color: var(--fill-color);\n",
              "      border-right-color: var(--fill-color);\n",
              "    }\n",
              "    40% {\n",
              "      border-color: transparent;\n",
              "      border-right-color: var(--fill-color);\n",
              "      border-top-color: var(--fill-color);\n",
              "    }\n",
              "    60% {\n",
              "      border-color: transparent;\n",
              "      border-right-color: var(--fill-color);\n",
              "    }\n",
              "    80% {\n",
              "      border-color: transparent;\n",
              "      border-right-color: var(--fill-color);\n",
              "      border-bottom-color: var(--fill-color);\n",
              "    }\n",
              "    90% {\n",
              "      border-color: transparent;\n",
              "      border-bottom-color: var(--fill-color);\n",
              "    }\n",
              "  }\n",
              "</style>\n",
              "\n",
              "      <script>\n",
              "        async function quickchart(key) {\n",
              "          const quickchartButtonEl =\n",
              "            document.querySelector('#' + key + ' button');\n",
              "          quickchartButtonEl.disabled = true;  // To prevent multiple clicks.\n",
              "          quickchartButtonEl.classList.add('colab-df-spinner');\n",
              "          try {\n",
              "            const charts = await google.colab.kernel.invokeFunction(\n",
              "                'suggestCharts', [key], {});\n",
              "          } catch (error) {\n",
              "            console.error('Error during call to suggestCharts:', error);\n",
              "          }\n",
              "          quickchartButtonEl.classList.remove('colab-df-spinner');\n",
              "          quickchartButtonEl.classList.add('colab-df-quickchart-complete');\n",
              "        }\n",
              "        (() => {\n",
              "          let quickchartButtonEl =\n",
              "            document.querySelector('#df-cc4a8671-8432-4f9a-86c2-f0b533b862c2 button');\n",
              "          quickchartButtonEl.style.display =\n",
              "            google.colab.kernel.accessAllowed ? 'block' : 'none';\n",
              "        })();\n",
              "      </script>\n",
              "    </div>\n",
              "\n",
              "    </div>\n",
              "  </div>\n"
            ],
            "application/vnd.google.colaboratory.intrinsic+json": {
              "type": "dataframe",
              "variable_name": "df",
              "summary": "{\n  \"name\": \"df\",\n  \"rows\": 7043,\n  \"fields\": [\n    {\n      \"column\": \"gender\",\n      \"properties\": {\n        \"dtype\": \"category\",\n        \"num_unique_values\": 2,\n        \"samples\": [\n          \"Male\",\n          \"Female\"\n        ],\n        \"semantic_type\": \"\",\n        \"description\": \"\"\n      }\n    },\n    {\n      \"column\": \"SeniorCitizen\",\n      \"properties\": {\n        \"dtype\": \"number\",\n        \"std\": 0,\n        \"min\": 0,\n        \"max\": 1,\n        \"num_unique_values\": 2,\n        \"samples\": [\n          1,\n          0\n        ],\n        \"semantic_type\": \"\",\n        \"description\": \"\"\n      }\n    },\n    {\n      \"column\": \"Partner\",\n      \"properties\": {\n        \"dtype\": \"category\",\n        \"num_unique_values\": 2,\n        \"samples\": [\n          \"No\",\n          \"Yes\"\n        ],\n        \"semantic_type\": \"\",\n        \"description\": \"\"\n      }\n    },\n    {\n      \"column\": \"Dependents\",\n      \"properties\": {\n        \"dtype\": \"category\",\n        \"num_unique_values\": 2,\n        \"samples\": [\n          \"Yes\",\n          \"No\"\n        ],\n        \"semantic_type\": \"\",\n        \"description\": \"\"\n      }\n    },\n    {\n      \"column\": \"tenure\",\n      \"properties\": {\n        \"dtype\": \"number\",\n        \"std\": 24,\n        \"min\": 0,\n        \"max\": 72,\n        \"num_unique_values\": 73,\n        \"samples\": [\n          8,\n          40\n        ],\n        \"semantic_type\": \"\",\n        \"description\": \"\"\n      }\n    },\n    {\n      \"column\": \"PhoneService\",\n      \"properties\": {\n        \"dtype\": \"category\",\n        \"num_unique_values\": 2,\n        \"samples\": [\n          \"Yes\",\n          \"No\"\n        ],\n        \"semantic_type\": \"\",\n        \"description\": \"\"\n      }\n    },\n    {\n      \"column\": \"MultipleLines\",\n      \"properties\": {\n        \"dtype\": \"category\",\n        \"num_unique_values\": 3,\n        \"samples\": [\n          \"No phone service\",\n          \"No\"\n        ],\n        \"semantic_type\": \"\",\n        \"description\": \"\"\n      }\n    },\n    {\n      \"column\": \"InternetService\",\n      \"properties\": {\n        \"dtype\": \"category\",\n        \"num_unique_values\": 3,\n        \"samples\": [\n          \"DSL\",\n          \"Fiber optic\"\n        ],\n        \"semantic_type\": \"\",\n        \"description\": \"\"\n      }\n    },\n    {\n      \"column\": \"OnlineSecurity\",\n      \"properties\": {\n        \"dtype\": \"category\",\n        \"num_unique_values\": 3,\n        \"samples\": [\n          \"No\",\n          \"Yes\"\n        ],\n        \"semantic_type\": \"\",\n        \"description\": \"\"\n      }\n    },\n    {\n      \"column\": \"OnlineBackup\",\n      \"properties\": {\n        \"dtype\": \"category\",\n        \"num_unique_values\": 3,\n        \"samples\": [\n          \"Yes\",\n          \"No\"\n        ],\n        \"semantic_type\": \"\",\n        \"description\": \"\"\n      }\n    },\n    {\n      \"column\": \"DeviceProtection\",\n      \"properties\": {\n        \"dtype\": \"category\",\n        \"num_unique_values\": 3,\n        \"samples\": [\n          \"No\",\n          \"Yes\"\n        ],\n        \"semantic_type\": \"\",\n        \"description\": \"\"\n      }\n    },\n    {\n      \"column\": \"TechSupport\",\n      \"properties\": {\n        \"dtype\": \"category\",\n        \"num_unique_values\": 3,\n        \"samples\": [\n          \"No\",\n          \"Yes\"\n        ],\n        \"semantic_type\": \"\",\n        \"description\": \"\"\n      }\n    },\n    {\n      \"column\": \"StreamingTV\",\n      \"properties\": {\n        \"dtype\": \"category\",\n        \"num_unique_values\": 3,\n        \"samples\": [\n          \"No\",\n          \"Yes\"\n        ],\n        \"semantic_type\": \"\",\n        \"description\": \"\"\n      }\n    },\n    {\n      \"column\": \"StreamingMovies\",\n      \"properties\": {\n        \"dtype\": \"category\",\n        \"num_unique_values\": 3,\n        \"samples\": [\n          \"No\",\n          \"Yes\"\n        ],\n        \"semantic_type\": \"\",\n        \"description\": \"\"\n      }\n    },\n    {\n      \"column\": \"Contract\",\n      \"properties\": {\n        \"dtype\": \"category\",\n        \"num_unique_values\": 3,\n        \"samples\": [\n          \"Month-to-month\",\n          \"One year\"\n        ],\n        \"semantic_type\": \"\",\n        \"description\": \"\"\n      }\n    },\n    {\n      \"column\": \"PaperlessBilling\",\n      \"properties\": {\n        \"dtype\": \"category\",\n        \"num_unique_values\": 2,\n        \"samples\": [\n          \"No\",\n          \"Yes\"\n        ],\n        \"semantic_type\": \"\",\n        \"description\": \"\"\n      }\n    },\n    {\n      \"column\": \"PaymentMethod\",\n      \"properties\": {\n        \"dtype\": \"category\",\n        \"num_unique_values\": 4,\n        \"samples\": [\n          \"Mailed check\",\n          \"Credit card (automatic)\"\n        ],\n        \"semantic_type\": \"\",\n        \"description\": \"\"\n      }\n    },\n    {\n      \"column\": \"MonthlyCharges\",\n      \"properties\": {\n        \"dtype\": \"number\",\n        \"std\": 30.09004709767854,\n        \"min\": 18.25,\n        \"max\": 118.75,\n        \"num_unique_values\": 1585,\n        \"samples\": [\n          48.85,\n          20.05\n        ],\n        \"semantic_type\": \"\",\n        \"description\": \"\"\n      }\n    },\n    {\n      \"column\": \"TotalCharges\",\n      \"properties\": {\n        \"dtype\": \"number\",\n        \"std\": 2265.2703984821865,\n        \"min\": 18.8,\n        \"max\": 8684.8,\n        \"num_unique_values\": 6531,\n        \"samples\": [\n          4600.7,\n          20.35\n        ],\n        \"semantic_type\": \"\",\n        \"description\": \"\"\n      }\n    },\n    {\n      \"column\": \"Churn\",\n      \"properties\": {\n        \"dtype\": \"number\",\n        \"std\": 0,\n        \"min\": 0,\n        \"max\": 1,\n        \"num_unique_values\": 2,\n        \"samples\": [\n          1,\n          0\n        ],\n        \"semantic_type\": \"\",\n        \"description\": \"\"\n      }\n    }\n  ]\n}"
            }
          },
          "metadata": {},
          "execution_count": 4
        }
      ],
      "source": [
        "# Load the dataset\n",
        "DATA_PATH = \"/content/Telco_Churn_Clean.csv\"\n",
        "df = pd.read_csv(DATA_PATH)\n",
        "print(df.shape)\n",
        "df.head()\n"
      ]
    },
    {
      "cell_type": "markdown",
      "id": "6524f270",
      "metadata": {
        "id": "6524f270"
      },
      "source": [
        "## Preprocess & Train"
      ]
    },
    {
      "cell_type": "code",
      "execution_count": 5,
      "id": "f16a635a",
      "metadata": {
        "colab": {
          "base_uri": "https://localhost:8080/"
        },
        "id": "f16a635a",
        "outputId": "f367b736-db95-4833-f7de-f8793aada871"
      },
      "outputs": [
        {
          "output_type": "execute_result",
          "data": {
            "text/plain": [
              "((5634, 19), (1409, 19))"
            ]
          },
          "metadata": {},
          "execution_count": 5
        }
      ],
      "source": [
        "# [10] Split features and target\n",
        "from sklearn.model_selection import train_test_split\n",
        "\n",
        "X = df.drop(columns=[\"Churn\"])\n",
        "y = df[\"Churn\"]\n",
        "\n",
        "X_train, X_test, y_train, y_test = train_test_split(\n",
        "    X, y, test_size=0.2, stratify=y, random_state=42\n",
        ")\n",
        "\n",
        "X_train.shape, X_test.shape\n"
      ]
    },
    {
      "cell_type": "code",
      "execution_count": 7,
      "id": "d266ef72",
      "metadata": {
        "colab": {
          "base_uri": "https://localhost:8080/"
        },
        "id": "d266ef72",
        "outputId": "a2b1ad99-f9ee-45da-88b0-45dc090de677"
      },
      "outputs": [
        {
          "output_type": "execute_result",
          "data": {
            "text/plain": [
              "(['gender', 'Partner', 'Dependents', 'PhoneService', 'MultipleLines'],\n",
              " ['SeniorCitizen', 'tenure', 'MonthlyCharges', 'TotalCharges'])"
            ]
          },
          "metadata": {},
          "execution_count": 7
        }
      ],
      "source": [
        "# Build preprocessing pipeline (impute + one-hot + scale)\n",
        "from sklearn.compose import ColumnTransformer\n",
        "from sklearn.pipeline import Pipeline\n",
        "from sklearn.impute import SimpleImputer\n",
        "from sklearn.preprocessing import OneHotEncoder, StandardScaler\n",
        "\n",
        "cat_cols = [c for c in X_train.columns if X_train[c].dtype == \"object\"]\n",
        "num_cols = [c for c in X_train.columns if c not in cat_cols]\n",
        "\n",
        "categorical = Pipeline([\n",
        "    (\"imputer\", SimpleImputer(strategy=\"most_frequent\")),\n",
        "    (\"onehot\", OneHotEncoder(handle_unknown=\"ignore\"))\n",
        "])\n",
        "numeric = Pipeline([\n",
        "    (\"imputer\", SimpleImputer(strategy=\"median\")),\n",
        "    (\"scaler\", StandardScaler(with_mean=False))\n",
        "])\n",
        "\n",
        "preprocessor = ColumnTransformer([\n",
        "    (\"cat\", categorical, cat_cols),\n",
        "    (\"num\", numeric, num_cols),\n",
        "])\n",
        "cat_cols[:5], num_cols[:5]\n"
      ]
    },
    {
      "cell_type": "code",
      "execution_count": 8,
      "id": "1d91286e",
      "metadata": {
        "colab": {
          "base_uri": "https://localhost:8080/"
        },
        "id": "1d91286e",
        "outputId": "75ce2810-481e-4910-f58c-524928a7cd0d"
      },
      "outputs": [
        {
          "output_type": "stream",
          "name": "stdout",
          "text": [
            "Trained Logistic Regression.\n"
          ]
        }
      ],
      "source": [
        "# Train Logistic Regression\n",
        "from sklearn.linear_model import LogisticRegression\n",
        "\n",
        "pipe_lr = Pipeline([\n",
        "    (\"prep\", preprocessor),\n",
        "    (\"clf\", LogisticRegression(max_iter=1000))\n",
        "])\n",
        "pipe_lr.fit(X_train, y_train)\n",
        "print(\"Trained Logistic Regression.\")\n"
      ]
    },
    {
      "cell_type": "code",
      "execution_count": 10,
      "id": "d5460557",
      "metadata": {
        "colab": {
          "base_uri": "https://localhost:8080/"
        },
        "id": "d5460557",
        "outputId": "7f54a917-14e5-4c29-d6c9-3902d004a5f2"
      },
      "outputs": [
        {
          "output_type": "stream",
          "name": "stdout",
          "text": [
            "Accuracy : 0.8055358410220014\n",
            "Precision: 0.6572327044025157\n",
            "Recall   : 0.5588235294117647\n",
            "F1-score : 0.6040462427745664\n"
          ]
        }
      ],
      "source": [
        "# Evaluate Logistic Regression (Accuracy, Precision, Recall, F1 + Confusion Matrix)\n",
        "from sklearn.metrics import accuracy_score, precision_score, recall_score, f1_score, confusion_matrix\n",
        "\n",
        "y_pred_lr = pipe_lr.predict(X_test)\n",
        "\n",
        "print(\"Accuracy :\", accuracy_score(y_test, y_pred_lr))\n",
        "print(\"Precision:\", precision_score(y_test, y_pred_lr, zero_division=0))\n",
        "print(\"Recall   :\", recall_score(y_test, y_pred_lr, zero_division=0))\n",
        "print(\"F1-score :\", f1_score(y_test, y_pred_lr, zero_division=0))\n",
        "\n",
        "cm = confusion_matrix(y_test, y_pred_lr)"
      ]
    },
    {
      "cell_type": "code",
      "source": [
        "# Single chart (no subplots), default colors\n",
        "plt.figure()\n",
        "plt.imshow(cm, interpolation=\"nearest\")\n",
        "plt.title(\"Confusion Matrix (LogReg)\")\n",
        "plt.xlabel(\"Predicted\")\n",
        "plt.ylabel(\"Actual\")\n",
        "plt.xticks([0,1], [\"No\", \"Yes\"])\n",
        "plt.yticks([0,1], [\"No\", \"Yes\"])\n",
        "\n",
        "for (i, j), z in np.ndenumerate(cm):\n",
        "    plt.text(j, i, str(z), ha='center', va='center')\n",
        "plt.show()"
      ],
      "metadata": {
        "colab": {
          "base_uri": "https://localhost:8080/",
          "height": 472
        },
        "id": "z-OTRkhXbo8W",
        "outputId": "308369f6-989c-4b7e-d11d-6671564c49c3"
      },
      "id": "z-OTRkhXbo8W",
      "execution_count": 11,
      "outputs": [
        {
          "output_type": "display_data",
          "data": {
            "text/plain": [
              "<Figure size 640x480 with 1 Axes>"
            ],
            "image/png": "[encoded data removed]"
          },
          "metadata": {}
        }
      ]
    },
    {
      "cell_type": "code",
      "execution_count": 12,
      "id": "96d07e1c",
      "metadata": {
        "colab": {
          "base_uri": "https://localhost:8080/"
        },
        "id": "96d07e1c",
        "outputId": "1ff3f5da-113e-4601-f493-957b47f43812"
      },
      "outputs": [
        {
          "output_type": "stream",
          "name": "stdout",
          "text": [
            "Decision Tree - Accuracy : 0.71611071682044\n",
            "Decision Tree - Precision: 0.46632124352331605\n",
            "Decision Tree - Recall   : 0.48128342245989303\n",
            "Decision Tree - F1-score : 0.47368421052631576\n"
          ]
        }
      ],
      "source": [
        "# Decision Tree for interpretability\n",
        "from sklearn.tree import DecisionTreeClassifier\n",
        "\n",
        "pipe_dt = Pipeline([\n",
        "    (\"prep\", preprocessor),\n",
        "    (\"clf\", DecisionTreeClassifier(random_state=42))\n",
        "])\n",
        "pipe_dt.fit(X_train, y_train)\n",
        "y_pred_dt = pipe_dt.predict(X_test)\n",
        "\n",
        "print(\"Decision Tree - Accuracy :\", accuracy_score(y_test, y_pred_dt))\n",
        "print(\"Decision Tree - Precision:\", precision_score(y_test, y_pred_dt, zero_division=0))\n",
        "print(\"Decision Tree - Recall   :\", recall_score(y_test, y_pred_dt, zero_division=0))\n",
        "print(\"Decision Tree - F1-score :\", f1_score(y_test, y_pred_dt, zero_division=0))\n"
      ]
    },
    {
      "cell_type": "code",
      "execution_count": 14,
      "id": "8dd6ed23",
      "metadata": {
        "colab": {
          "base_uri": "https://localhost:8080/",
          "height": 35
        },
        "id": "8dd6ed23",
        "outputId": "ab447a69-9ab4-43bd-e5fd-e23673ae876c"
      },
      "outputs": [
        {
          "output_type": "display_data",
          "data": {
            "text/plain": [
              "<Figure size 640x480 with 0 Axes>"
            ]
          },
          "metadata": {}
        }
      ],
      "source": [
        "# ROC Curve / AUC\n",
        "from sklearn.metrics import roc_curve, auc\n",
        "\n",
        "plt.figure()\n",
        "plotted = False"
      ]
    },
    {
      "cell_type": "code",
      "source": [
        "# Logistic Regression\n",
        "if hasattr(pipe_lr, \"predict_proba\"):\n",
        "    proba_lr = pipe_lr.predict_proba(X_test)[:, 1]\n",
        "    fpr_lr, tpr_lr, _ = roc_curve(y_test, proba_lr)\n",
        "    auc_lr = auc(fpr_lr, tpr_lr)\n",
        "    plt.plot(fpr_lr, tpr_lr, label=f\"LogReg (AUC={auc_lr:.3f})\")\n",
        "    plotted = True"
      ],
      "metadata": {
        "colab": {
          "base_uri": "https://localhost:8080/",
          "height": 430
        },
        "id": "ajTOUJUWbzTN",
        "outputId": "dda2eb4d-eff2-4184-f0c0-0c38165ef44d"
      },
      "id": "ajTOUJUWbzTN",
      "execution_count": 15,
      "outputs": [
        {
          "output_type": "display_data",
          "data": {
            "text/plain": [
              "<Figure size 640x480 with 1 Axes>"
            ],
            "image/png": "[encoded data removed]"
          },
          "metadata": {}
        }
      ]
    },
    {
      "cell_type": "code",
      "source": [
        "# Decision Tree\n",
        "if hasattr(pipe_dt, \"predict_proba\"):\n",
        "    proba_dt = pipe_dt.predict_proba(X_test)[:, 1]\n",
        "    fpr_dt, tpr_dt, _ = roc_curve(y_test, proba_dt)\n",
        "    auc_dt = auc(fpr_dt, tpr_dt)\n",
        "    plt.plot(fpr_dt, tpr_dt, label=f\"Decision Tree (AUC={auc_dt:.3f})\")\n",
        "    plotted = True"
      ],
      "metadata": {
        "colab": {
          "base_uri": "https://localhost:8080/",
          "height": 430
        },
        "id": "NkC7l0zTb2Df",
        "outputId": "203d23fb-c8d5-42c1-eaab-024d9ff69247"
      },
      "id": "NkC7l0zTb2Df",
      "execution_count": 16,
      "outputs": [
        {
          "output_type": "display_data",
          "data": {
            "text/plain": [
              "<Figure size 640x480 with 1 Axes>"
            ],
            "image/png": "[encoded data removed]"
          },
          "metadata": {}
        }
      ]
    },
    {
      "cell_type": "code",
      "source": [
        "if plotted:\n",
        "    plt.plot([0,1], [0,1], linestyle=\"--\")\n",
        "    plt.xlabel(\"False Positive Rate\")\n",
        "    plt.ylabel(\"True Positive Rate\")\n",
        "    plt.title(\"ROC Curve\")\n",
        "    plt.legend(loc=\"lower right\")\n",
        "plt.show()"
      ],
      "metadata": {
        "colab": {
          "base_uri": "https://localhost:8080/",
          "height": 528
        },
        "id": "0e8WTrVab5LL",
        "outputId": "f5293af5-8f8b-4d7b-a2d7-94479eec0227"
      },
      "id": "0e8WTrVab5LL",
      "execution_count": 17,
      "outputs": [
        {
          "output_type": "stream",
          "name": "stderr",
          "text": [
            "/tmp/ipython-input-1174448775.py:6: UserWarning: No artists with labels found to put in legend.  Note that artists whose label start with an underscore are ignored when legend() is called with no argument.\n",
            "  plt.legend(loc=\"lower right\")\n"
          ]
        },
        {
          "output_type": "display_data",
          "data": {
            "text/plain": [
              "<Figure size 640x480 with 1 Axes>"
            ],
            "image/png": "[encoded data removed]"
          },
          "metadata": {}
        }
      ]
    },
    {
      "cell_type": "code",
      "execution_count": 19,
      "id": "12e852e6",
      "metadata": {
        "colab": {
          "base_uri": "https://localhost:8080/",
          "height": 467
        },
        "id": "12e852e6",
        "outputId": "db745b59-1b50-4343-b615-a451ed1b9f4a"
      },
      "outputs": [
        {
          "output_type": "display_data",
          "data": {
            "text/plain": [
              "<Figure size 640x480 with 1 Axes>"
            ],
            "image/png": "[encoded data removed]"
          },
          "metadata": {}
        }
      ],
      "source": [
        "# Simple visualization: churn vs non-churn counts\n",
        "plt.figure()\n",
        "df[\"Churn\"].value_counts().sort_index().plot(kind=\"bar\")\n",
        "plt.title(\"Churn Counts (0=No, 1=Yes)\")\n",
        "plt.xlabel(\"Churn\")\n",
        "plt.ylabel(\"Count\")\n",
        "plt.show()\n"
      ]
    },
    {
      "cell_type": "code",
      "execution_count": 20,
      "id": "48a9ac8a",
      "metadata": {
        "colab": {
          "base_uri": "https://localhost:8080/",
          "height": 588
        },
        "id": "48a9ac8a",
        "outputId": "518ebd00-c7b2-45a4-d898-4ad473d7bc90"
      },
      "outputs": [
        {
          "output_type": "display_data",
          "data": {
            "text/plain": [
              "<Figure size 640x480 with 0 Axes>"
            ]
          },
          "metadata": {}
        },
        {
          "output_type": "display_data",
          "data": {
            "text/plain": [
              "<Figure size 640x480 with 1 Axes>"
            ],
            "image/png": "[encoded data removed]"
          },
          "metadata": {}
        }
      ],
      "source": [
        "# Distribution of churn across a feature (Contract)\n",
        "if \"Contract\" in df.columns:\n",
        "    plt.figure()\n",
        "    tmp = df[[\"Contract\", \"Churn\"]].dropna()\n",
        "    counts = tmp.groupby([\"Contract\", \"Churn\"]).size().unstack(fill_value=0)\n",
        "    counts.plot(kind=\"bar\")\n",
        "    plt.title(\"Churn by Contract Type\")\n",
        "    plt.xlabel(\"Contract\")\n",
        "    plt.ylabel(\"Count\")\n",
        "    plt.show()\n",
        "else:\n",
        "    print(\"Column 'Contract' not found; skipping grouped chart.\")\n"
      ]
    },
    {
      "cell_type": "code",
      "source": [
        "# Save trained models and metrics\n",
        "from joblib import dump\n",
        "from sklearn.metrics import classification_report\n",
        "import json\n",
        "\n",
        "ARTIFACTS_DIR = Path(\"artifacts\")\n",
        "ARTIFACTS_DIR.mkdir(exist_ok=True, parents=True)"
      ],
      "metadata": {
        "id": "Jvfv04QCcMOw"
      },
      "id": "Jvfv04QCcMOw",
      "execution_count": 22,
      "outputs": []
    },
    {
      "cell_type": "code",
      "source": [
        "# Save both models\n",
        "dump(pipe_lr, ARTIFACTS_DIR / \"model_logistic_regression.joblib\")\n",
        "dump(pipe_dt, ARTIFACTS_DIR / \"model_decision_tree.joblib\")"
      ],
      "metadata": {
        "colab": {
          "base_uri": "https://localhost:8080/"
        },
        "id": "ad_WkbkjcO19",
        "outputId": "0463b7eb-9099-487b-b789-23020175de01"
      },
      "id": "ad_WkbkjcO19",
      "execution_count": 23,
      "outputs": [
        {
          "output_type": "execute_result",
          "data": {
            "text/plain": [
              "['artifacts/model_decision_tree.joblib']"
            ]
          },
          "metadata": {},
          "execution_count": 23
        }
      ]
    },
    {
      "cell_type": "code",
      "source": [
        "# Pick best by AUC (fallback to F1 if needed)\n",
        "def score_model(pipe, X, y):\n",
        "    preds = pipe.predict(X)\n",
        "    proba = pipe.predict_proba(X)[:, 1] if hasattr(pipe, \"predict_proba\") else None\n",
        "    f1 = f1_score(y, preds, zero_division=0)\n",
        "    model_auc = None\n",
        "    if proba is not None:\n",
        "        fpr, tpr, _ = roc_curve(y, proba)\n",
        "        model_auc = auc(fpr, tpr)\n",
        "    return f1, model_auc\n",
        "\n",
        "f1_lr, auc_lr = score_model(pipe_lr, X_test, y_test)\n",
        "f1_dt, auc_dt = score_model(pipe_dt, X_test, y_test)"
      ],
      "metadata": {
        "id": "pOry5sPFcRwZ"
      },
      "id": "pOry5sPFcRwZ",
      "execution_count": 24,
      "outputs": []
    },
    {
      "cell_type": "code",
      "source": [
        "# Decide best\n",
        "score_lr = (-1 if auc_lr is None else auc_lr, f1_lr)\n",
        "score_dt = (-1 if auc_dt is None else auc_dt, f1_dt)\n",
        "best_name = \"logistic_regression\" if score_lr >= score_dt else \"decision_tree\"\n",
        "best_pipe = pipe_lr if best_name == \"logistic_regression\" else pipe_dt\n",
        "dump(best_pipe, ARTIFACTS_DIR / \"best_model.joblib\")"
      ],
      "metadata": {
        "colab": {
          "base_uri": "https://localhost:8080/"
        },
        "id": "EwrdOHy3cUaL",
        "outputId": "820a11d6-7b46-4382-a0bb-18a3d7a649d4"
      },
      "id": "EwrdOHy3cUaL",
      "execution_count": 25,
      "outputs": [
        {
          "output_type": "execute_result",
          "data": {
            "text/plain": [
              "['artifacts/best_model.joblib']"
            ]
          },
          "metadata": {},
          "execution_count": 25
        }
      ]
    },
    {
      "cell_type": "code",
      "source": [
        "# Save confusion matrix figure\n",
        "plt.figure()\n",
        "cm_best = confusion_matrix(y_test, best_pipe.predict(X_test))\n",
        "plt.imshow(cm_best, interpolation=\"nearest\")\n",
        "plt.title(\"Confusion Matrix (Best Model)\")\n",
        "plt.xlabel(\"Predicted\")\n",
        "plt.ylabel(\"Actual\")\n",
        "plt.xticks([0,1], [\"No\", \"Yes\"])\n",
        "plt.yticks([0,1], [\"No\", \"Yes\"])\n",
        "for (i, j), z in np.ndenumerate(cm_best):\n",
        "    plt.text(j, i, str(z), ha='center', va='center')\n",
        "plt.savefig(ARTIFACTS_DIR / \"confusion_matrix.png\", bbox_inches=\"tight\")\n",
        "plt.close()"
      ],
      "metadata": {
        "id": "nzN2vDLpcW53"
      },
      "id": "nzN2vDLpcW53",
      "execution_count": 26,
      "outputs": []
    },
    {
      "cell_type": "code",
      "source": [
        "# Save ROC curve figure (if any probability-based model)\n",
        "plt.figure()\n",
        "plotted = False\n",
        "if hasattr(pipe_lr, \"predict_proba\"):\n",
        "    plt.plot(fpr_lr, tpr_lr, label=f\"LogReg (AUC={auc_lr:.3f})\")\n",
        "    plotted = True\n",
        "if hasattr(pipe_dt, \"predict_proba\"):\n",
        "    plt.plot(fpr_dt, tpr_dt, label=f\"Decision Tree (AUC={auc_dt:.3f})\")\n",
        "    plotted = True\n",
        "if plotted:\n",
        "    plt.plot([0,1], [0,1], linestyle=\"--\")\n",
        "    plt.xlabel(\"False Positive Rate\")\n",
        "    plt.ylabel(\"True Positive Rate\")\n",
        "    plt.title(\"ROC Curve\")\n",
        "    plt.legend(loc=\"lower right\")\n",
        "    plt.savefig(ARTIFACTS_DIR / \"roc_curve.png\", bbox_inches=\"tight\")\n",
        "    plt.close()"
      ],
      "metadata": {
        "id": "IcLGieAJcg11"
      },
      "id": "IcLGieAJcg11",
      "execution_count": 27,
      "outputs": []
    },
    {
      "cell_type": "code",
      "execution_count": 28,
      "id": "387753df",
      "metadata": {
        "colab": {
          "base_uri": "https://localhost:8080/"
        },
        "id": "387753df",
        "outputId": "8bc83648-7891-4293-94d6-84cf9f1580c8"
      },
      "outputs": [
        {
          "output_type": "stream",
          "name": "stdout",
          "text": [
            "Saved: artifacts/best_model.joblib, metrics.json, and plots.\n"
          ]
        }
      ],
      "source": [
        "# Metrics JSON\n",
        "metrics = {\n",
        "    \"logistic_regression\": {\n",
        "        \"accuracy\": float(accuracy_score(y_test, y_pred_lr)),\n",
        "        \"precision\": float(precision_score(y_test, y_pred_lr, zero_division=0)),\n",
        "        \"recall\": float(recall_score(y_test, y_pred_lr, zero_division=0)),\n",
        "        \"f1\": float(f1_score(y_test, y_pred_lr, zero_division=0)),\n",
        "        \"auc\": (None if auc_lr is None else float(auc_lr)),\n",
        "        \"report\": classification_report(y_test, y_pred_lr, output_dict=True, zero_division=0),\n",
        "    },\n",
        "    \"decision_tree\": {\n",
        "        \"accuracy\": float(accuracy_score(y_test, y_pred_dt)),\n",
        "        \"precision\": float(precision_score(y_test, y_pred_dt, zero_division=0)),\n",
        "        \"recall\": float(recall_score(y_test, y_pred_dt, zero_division=0)),\n",
        "        \"f1\": float(f1_score(y_test, y_pred_dt, zero_division=0)),\n",
        "        \"auc\": (None if auc_dt is None else float(auc_dt)),\n",
        "        \"report\": classification_report(y_test, y_pred_dt, output_dict=True, zero_division=0),\n",
        "    },\n",
        "    \"best_model\": best_name\n",
        "}\n",
        "with open(ARTIFACTS_DIR / \"metrics.json\", \"w\") as f:\n",
        "    json.dump(metrics, f, indent=2)\n",
        "\n",
        "print(f\"Saved: {ARTIFACTS_DIR/'best_model.joblib'}, metrics.json, and plots.\")\n"
      ]
    },
    {
      "cell_type": "markdown",
      "id": "5a199298",
      "metadata": {
        "id": "5a199298"
      },
      "source": [
        "## Simple one-off prediction demo"
      ]
    },
    {
      "cell_type": "code",
      "execution_count": 29,
      "id": "0482d60f",
      "metadata": {
        "colab": {
          "base_uri": "https://localhost:8080/"
        },
        "id": "0482d60f",
        "outputId": "5535596a-88b3-4549-e6e5-cc7b3e2631cf"
      },
      "outputs": [
        {
          "output_type": "stream",
          "name": "stdout",
          "text": [
            "Predicted probability of churn: 0.768 -> Will Churn\n"
          ]
        }
      ],
      "source": [
        "# [19] Predict on a single, manual input using the best saved pipeline\n",
        "from joblib import load\n",
        "\n",
        "best_model_path = ARTIFACTS_DIR / \"best_model.joblib\"\n",
        "pipe = load(best_model_path)\n",
        "\n",
        "sample = {\n",
        "    \"gender\": \"Female\",\n",
        "    \"SeniorCitizen\": 0,\n",
        "    \"Partner\": \"No\",\n",
        "    \"Dependents\": \"No\",\n",
        "    \"tenure\": 5,\n",
        "    \"PhoneService\": \"Yes\",\n",
        "    \"MultipleLines\": \"No\",\n",
        "    \"InternetService\": \"Fiber optic\",\n",
        "    \"OnlineSecurity\": \"No\",\n",
        "    \"OnlineBackup\": \"No\",\n",
        "    \"DeviceProtection\": \"No\",\n",
        "    \"TechSupport\": \"No\",\n",
        "    \"StreamingTV\": \"Yes\",\n",
        "    \"StreamingMovies\": \"Yes\",\n",
        "    \"Contract\": \"Month-to-month\",\n",
        "    \"PaperlessBilling\": \"Yes\",\n",
        "    \"PaymentMethod\": \"Electronic check\",\n",
        "    \"MonthlyCharges\": 89.1,\n",
        "    \"TotalCharges\": 445.5,\n",
        "}\n",
        "\n",
        "row = pd.DataFrame([sample])\n",
        "proba = pipe.predict_proba(row)[:, 1][0]\n",
        "label = \"Will Churn\" if proba >= 0.5 else \"Will Not Churn\"\n",
        "print(f\"Predicted probability of churn: {proba:.3f} -> {label}\")\n"
      ]
    }
  ],
  "metadata": {
    "colab": {
      "provenance": []
    },
    "language_info": {
      "name": "python"
    },
    "kernelspec": {
      "name": "python3",
      "display_name": "Python 3"
    }
  },
  "nbformat": 4,
  "nbformat_minor": 5
}